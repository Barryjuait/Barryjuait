{
 "cells": [
  {
   "cell_type": "code",
   "execution_count": 5,
   "metadata": {},
   "outputs": [
    {
     "data": {
      "text/plain": [
       "5000"
      ]
     },
     "execution_count": 5,
     "metadata": {},
     "output_type": "execute_result"
    }
   ],
   "source": [
    "import numpy as np\n",
    "\n",
    "\n",
    "#Therapeutic agents: \n",
    "#Antibodies \n",
    "a = 10\n",
    "#Synthetic inhibitors\n",
    "b = 10\n",
    "#Viral vectors\n",
    "c = 10\n",
    "#combination therapy\n",
    "x = 10\n",
    "\n",
    "#Doses per therapeutic agent\n",
    "d = 5\n",
    "\n",
    "#Animals per treatment group:\n",
    "e = 20\n",
    "\n",
    "#Animals for tolerance pilots: \n",
    "f = 5\n",
    "\n",
    "\n",
    "#Total calculation: \n",
    "#Tolerance Pilots:\n",
    "n_tolerance = ((a + b + c + x)*d)*f\n",
    "#Screening:\n",
    "n_screening = ((a + b + c + x)*d)*e\n",
    "\n",
    "total = (n_screening + n_tolerance)\n",
    "total\n"
   ]
  }
 ],
 "metadata": {
  "kernelspec": {
   "display_name": "Python 3",
   "language": "python",
   "name": "python3"
  },
  "language_info": {
   "codemirror_mode": {
    "name": "ipython",
    "version": 3
   },
   "file_extension": ".py",
   "mimetype": "text/x-python",
   "name": "python",
   "nbconvert_exporter": "python",
   "pygments_lexer": "ipython3",
   "version": "3.10.2"
  }
 },
 "nbformat": 4,
 "nbformat_minor": 2
}

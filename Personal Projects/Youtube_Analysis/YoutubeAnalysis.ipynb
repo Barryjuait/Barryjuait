{
 "cells": [
  {
   "cell_type": "code",
   "execution_count": 1,
   "metadata": {},
   "outputs": [],
   "source": [
    "from moviepy.editor import AudioFileClip\n",
    "from pytubefix import YouTube\n",
    "from pytubefix.cli import on_progress\n",
    "import pandas as pd\n",
    "import numpy as np\n",
    "import matplotlib.pyplot as plt\n",
    "import seaborn as sns\n",
    "import warnings\n",
    "import os\n",
    "\n",
    "warnings.filterwarnings('ignore')\n"
   ]
  },
  {
   "cell_type": "code",
   "execution_count": 4,
   "metadata": {},
   "outputs": [],
   "source": [
    "def download_audio_from_youtube(video_url, output_path, lang = 'english'):\n",
    "    # Download the YouTube video\n",
    "    yt = YouTube(video_url, on_progress_callback = on_progress)\n",
    "    print(f'Title of video{id}: {yt.title}')\n",
    "    stream = yt.streams.filter(only_audio=True).first()\n",
    "    stream.download(output_path=output_path)\n",
    "    \n",
    "    if lang == 'english':\n",
    "        caption = yt.captions.get_by_language_code('a.en')\n",
    "    elif lang == 'spanish':\n",
    "        caption = yt.captions.get_by_language_code('a.es')\n",
    "\n",
    "    durations = caption.generate_srt_captions()\n",
    "\n",
    "    print(f\"Video downloaded successfully to {output_path}\")\n",
    "    return yt, caption, durations\n"
   ]
  },
  {
   "cell_type": "code",
   "execution_count": 5,
   "metadata": {},
   "outputs": [],
   "source": [
    "# Define the function to extract start and end times from SRT captions\n",
    "def extract_durations_from_srt(captions_srt):\n",
    "    # Split captions into blocks\n",
    "    caption_blocks = captions_srt.strip().split('\\n\\n')\n",
    "  \n",
    "    # Initialize lists to hold the start times, end times, and captions\n",
    "    start_times = []\n",
    "    end_times = []\n",
    "    phrases = []\n",
    "    \n",
    "    # Parse each caption block\n",
    "    for block in caption_blocks:\n",
    "        lines = block.split('\\n')\n",
    "        if len(lines) >= 3:\n",
    "            # The time range is on the second line in SRT format\n",
    "            time_range = lines[1]\n",
    "            start, end = time_range.split(' --> ')\n",
    "            \n",
    "            # The caption text is on the third line\n",
    "            phrase = ' '.join(lines[2:])\n",
    "            \n",
    "            start_times.append(start)\n",
    "            end_times.append(end)\n",
    "            phrases.append(phrase)\n",
    "    \n",
    "    # Create a DataFrame from the start times, end times, and phrases\n",
    "    df = pd.DataFrame({\n",
    "        'Start Time': start_times,\n",
    "        'End Time': end_times,\n",
    "        'Phrase': phrases\n",
    "    })\n",
    "    return df"
   ]
  },
  {
   "cell_type": "code",
   "execution_count": 6,
   "metadata": {},
   "outputs": [
    {
     "name": "stdout",
     "output_type": "stream",
     "text": [
      "Title of video0001: Neurosurgeon Answers Brain Surgery Questions From Twitter  Tech Support  WIRED\n",
      "Video downloaded successfully to /Users/sbk/Documents/GitHub/Barryjuait/Personal Projects/Youtube_Analysis/video0001\n"
     ]
    }
   ],
   "source": [
    "OutputFolder = \"/Users/sbk/Documents/GitHub/Barryjuait/Personal Projects/Youtube_Analysis\"\n",
    "id = '0001'\n",
    "video_url = \"https://www.youtube.com/watch?v=S_UN4s5qlt8\"\n",
    "video_folder = f\"{OutputFolder}/video{id}\"\n",
    "if os.path.isdir(video_folder) == False:\n",
    "    os.mkdir(video_folder)\n",
    "\n",
    "# Step 1: Download the video\n",
    "lang = 'english'\n",
    "yt, caption, durations = download_audio_from_youtube(video_url, video_folder, lang)"
   ]
  },
  {
   "cell_type": "code",
   "execution_count": 8,
   "metadata": {},
   "outputs": [
    {
     "data": {
      "text/html": [
       "<div>\n",
       "<style scoped>\n",
       "    .dataframe tbody tr th:only-of-type {\n",
       "        vertical-align: middle;\n",
       "    }\n",
       "\n",
       "    .dataframe tbody tr th {\n",
       "        vertical-align: top;\n",
       "    }\n",
       "\n",
       "    .dataframe thead th {\n",
       "        text-align: right;\n",
       "    }\n",
       "</style>\n",
       "<table border=\"1\" class=\"dataframe\">\n",
       "  <thead>\n",
       "    <tr style=\"text-align: right;\">\n",
       "      <th></th>\n",
       "      <th>Start Time</th>\n",
       "      <th>End Time</th>\n",
       "      <th>Phrase</th>\n",
       "    </tr>\n",
       "  </thead>\n",
       "  <tbody>\n",
       "    <tr>\n",
       "      <th>0</th>\n",
       "      <td>00:00:00,000</td>\n",
       "      <td>00:00:05,220</td>\n",
       "      <td>I'm Dr Brian kopel neurosurgeon today</td>\n",
       "    </tr>\n",
       "    <tr>\n",
       "      <th>1</th>\n",
       "      <td>00:00:03,419</td>\n",
       "      <td>00:00:08,109</td>\n",
       "      <td>I'll be answering questions from Twitter</td>\n",
       "    </tr>\n",
       "    <tr>\n",
       "      <th>2</th>\n",
       "      <td>00:00:05,220</td>\n",
       "      <td>00:00:12,439</td>\n",
       "      <td>this is brain surgery support</td>\n",
       "    </tr>\n",
       "    <tr>\n",
       "      <th>3</th>\n",
       "      <td>00:00:08,109</td>\n",
       "      <td>00:00:12,439</td>\n",
       "      <td>[Music]</td>\n",
       "    </tr>\n",
       "    <tr>\n",
       "      <th>4</th>\n",
       "      <td>00:00:12,679</td>\n",
       "      <td>00:00:18,900</td>\n",
       "      <td>if fianel asks what does the brain feel</td>\n",
       "    </tr>\n",
       "  </tbody>\n",
       "</table>\n",
       "</div>"
      ],
      "text/plain": [
       "     Start Time      End Time                                    Phrase\n",
       "0  00:00:00,000  00:00:05,220     I'm Dr Brian kopel neurosurgeon today\n",
       "1  00:00:03,419  00:00:08,109  I'll be answering questions from Twitter\n",
       "2  00:00:05,220  00:00:12,439             this is brain surgery support\n",
       "3  00:00:08,109  00:00:12,439                                   [Music]\n",
       "4  00:00:12,679  00:00:18,900   if fianel asks what does the brain feel"
      ]
     },
     "execution_count": 8,
     "metadata": {},
     "output_type": "execute_result"
    }
   ],
   "source": [
    "# Convert the SRT data into a DataFrame\n",
    "durations_df = extract_durations_from_srt(durations)\n",
    "\n",
    "# Display the DataFrame\n",
    "durations_df.head()"
   ]
  },
  {
   "cell_type": "code",
   "execution_count": 9,
   "metadata": {},
   "outputs": [],
   "source": [
    "def find_mp4_file(video_folder):\n",
    "    files = [f for f in os.listdir(video_folder) if os.path.isfile(os.path.join(video_folder, f))]\n",
    "    return files[0]\n",
    "\n",
    "# Find the file\n",
    "filename = find_mp4_file(video_folder)"
   ]
  },
  {
   "cell_type": "code",
   "execution_count": 10,
   "metadata": {},
   "outputs": [
    {
     "name": "stderr",
     "output_type": "stream",
     "text": [
      "100%|█████████████████████████████████████| 1.42G/1.42G [01:21<00:00, 18.7MiB/s]\n"
     ]
    }
   ],
   "source": [
    "import whisper\n",
    "\n",
    "model = whisper.load_model(\"medium\", device = 'cpu')  # You can choose 'base', \"small\", \"medium\", \"large\" depending on your requirements"
   ]
  },
  {
   "cell_type": "code",
   "execution_count": 11,
   "metadata": {},
   "outputs": [],
   "source": [
    "# Transcribe the audio file and enable word-level timestamps\n",
    "audioFile = os.path.join(video_folder, filename)\n",
    "result = model.transcribe(audioFile, word_timestamps=True)"
   ]
  },
  {
   "cell_type": "code",
   "execution_count": 15,
   "metadata": {},
   "outputs": [
    {
     "name": "stdout",
     "output_type": "stream",
     "text": [
      "Words with Start and End Times:\n"
     ]
    },
    {
     "data": {
      "text/html": [
       "<div>\n",
       "<style scoped>\n",
       "    .dataframe tbody tr th:only-of-type {\n",
       "        vertical-align: middle;\n",
       "    }\n",
       "\n",
       "    .dataframe tbody tr th {\n",
       "        vertical-align: top;\n",
       "    }\n",
       "\n",
       "    .dataframe thead th {\n",
       "        text-align: right;\n",
       "    }\n",
       "</style>\n",
       "<table border=\"1\" class=\"dataframe\">\n",
       "  <thead>\n",
       "    <tr style=\"text-align: right;\">\n",
       "      <th></th>\n",
       "      <th>word</th>\n",
       "      <th>start</th>\n",
       "      <th>end</th>\n",
       "      <th>probability</th>\n",
       "    </tr>\n",
       "  </thead>\n",
       "  <tbody>\n",
       "    <tr>\n",
       "      <th>0</th>\n",
       "      <td>I'm</td>\n",
       "      <td>0.00</td>\n",
       "      <td>0.42</td>\n",
       "      <td>0.901800</td>\n",
       "    </tr>\n",
       "    <tr>\n",
       "      <th>1</th>\n",
       "      <td>Dr.</td>\n",
       "      <td>0.42</td>\n",
       "      <td>0.84</td>\n",
       "      <td>0.944683</td>\n",
       "    </tr>\n",
       "    <tr>\n",
       "      <th>2</th>\n",
       "      <td>Brian</td>\n",
       "      <td>0.94</td>\n",
       "      <td>1.28</td>\n",
       "      <td>0.962219</td>\n",
       "    </tr>\n",
       "    <tr>\n",
       "      <th>3</th>\n",
       "      <td>Coppell,</td>\n",
       "      <td>1.28</td>\n",
       "      <td>1.80</td>\n",
       "      <td>0.690753</td>\n",
       "    </tr>\n",
       "    <tr>\n",
       "      <th>4</th>\n",
       "      <td>neurosurgeon.</td>\n",
       "      <td>2.00</td>\n",
       "      <td>2.88</td>\n",
       "      <td>0.986870</td>\n",
       "    </tr>\n",
       "  </tbody>\n",
       "</table>\n",
       "</div>"
      ],
      "text/plain": [
       "             word  start   end  probability\n",
       "0             I'm   0.00  0.42     0.901800\n",
       "1             Dr.   0.42  0.84     0.944683\n",
       "2           Brian   0.94  1.28     0.962219\n",
       "3        Coppell,   1.28  1.80     0.690753\n",
       "4   neurosurgeon.   2.00  2.88     0.986870"
      ]
     },
     "execution_count": 15,
     "metadata": {},
     "output_type": "execute_result"
    }
   ],
   "source": [
    "# Prepare lists to hold the word data\n",
    "words_df= pd.DataFrame()\n",
    "\n",
    "# Collect start and end times for each word\n",
    "segments = result['segments']\n",
    "\n",
    "for ix in range(len(segments)):\n",
    "    word_info = segments[ix].get('words')\n",
    "    df = pd.DataFrame(word_info)\n",
    "\n",
    "    words_df = pd.concat([words_df, df], ignore_index=True)\n",
    "\n",
    "# Display the DataFrame\n",
    "print(\"Words with Start and End Times:\")\n",
    "words_df.head()"
   ]
  },
  {
   "cell_type": "code",
   "execution_count": 14,
   "metadata": {},
   "outputs": [
    {
     "name": "stdout",
     "output_type": "stream",
     "text": [
      "Intervals between Onsets:\n",
      "                word    start  interval\n",
      "1                Dr.     0.42      0.42\n",
      "2              Brian     0.94      0.52\n",
      "3           Coppell,     1.28      0.34\n",
      "4      neurosurgeon.     2.00      0.72\n",
      "5              Today     3.20      1.20\n",
      "...              ...      ...       ...\n",
      "2800             for  1023.94      0.22\n",
      "2801        watching  1024.20      0.26\n",
      "2802           Brain  1024.50      0.30\n",
      "2803         Surgery  1024.86      0.36\n",
      "2804        Support.  1025.26      0.40\n",
      "\n",
      "[2804 rows x 3 columns]\n"
     ]
    },
    {
     "data": {
      "image/png": "[encoded data removed]",
      "text/plain": [
       "<Figure size 720x432 with 1 Axes>"
      ]
     },
     "metadata": {
      "needs_background": "light"
     },
     "output_type": "display_data"
    }
   ],
   "source": [
    "# Ensure columns are in numeric format\n",
    "words_df['start'] = pd.to_numeric(words_df['start'], errors='coerce')\n",
    "words_df['end'] = pd.to_numeric(words_df['end'], errors='coerce')\n",
    "\n",
    "# Calculate the interval between consecutive start times\n",
    "words_df['interval'] = words_df['start'].diff()\n",
    "\n",
    "# Drop the first row since it will have NaN for the interval\n",
    "intervals_df = words_df.dropna(subset=['interval'])\n",
    "\n",
    "# Display the intervals\n",
    "print(\"Intervals between Onsets:\")\n",
    "print(intervals_df[['word', 'start', 'interval']])\n",
    "\n",
    "# Plot the distribution of intervals\n",
    "fig, ax = plt.subplots(1,1,figsize=(10, 6))\n",
    "sns.histplot(intervals_df, x = 'interval', bins=30, alpha=0.7, color='blue')\n",
    "plt.title('Distribution of Intervals Between Word Onsets')\n",
    "plt.xlabel('Interval (seconds)')\n",
    "plt.ylabel('Frequency')\n",
    "plt.grid(axis='y')\n",
    "plt.show()"
   ]
  }
 ],
 "metadata": {
  "kernelspec": {
   "display_name": "Python 3",
   "language": "python",
   "name": "python3"
  },
  "language_info": {
   "codemirror_mode": {
    "name": "ipython",
    "version": 3
   },
   "file_extension": ".py",
   "mimetype": "text/x-python",
   "name": "python",
   "nbconvert_exporter": "python",
   "pygments_lexer": "ipython3",
   "version": "3.10.2"
  }
 },
 "nbformat": 4,
 "nbformat_minor": 2
}

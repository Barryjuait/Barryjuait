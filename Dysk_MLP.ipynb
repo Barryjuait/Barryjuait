{
  "cells": [
    {
      "cell_type": "markdown",
      "metadata": {
        "id": "view-in-github",
        "colab_type": "text"
      },
      "source": [
        "<a href=\"https://colab.research.google.com/github/Barryjuait/Barryjuait/blob/master/Dysk_MLP.ipynb\" target=\"_parent\"><img src=\"https://colab.research.google.com/assets/colab-badge.svg\" alt=\"Open In Colab\"/></a>"
      ]
    },
    {
      "cell_type": "code",
      "execution_count": null,
      "metadata": {
        "colab": {
          "base_uri": "https://localhost:8080/"
        },
        "id": "7YxHla3f9LgN",
        "outputId": "a466a475-1bb9-4324-ec03-cfe64f3d934c"
      },
      "outputs": [
        {
          "output_type": "stream",
          "name": "stdout",
          "text": [
            "Mounted at /content/drive\n"
          ]
        }
      ],
      "source": [
        "#Montar Google Drive\n",
        "from google.colab import drive\n",
        "drive.mount('/content/drive')"
      ]
    },
    {
      "cell_type": "markdown",
      "metadata": {
        "id": "SGKzg0SYsutI"
      },
      "source": [
        "### Etapa 1. Visualización de la data\n",
        "\n",
        "En esta etapa nos hacemos una idea de como es la distribución de la data. Entre que valores fluctua,  en el caso de las series de tiempo univariadas, es natural realizar Boxplots y graficos de tiempo. Las librerías tipicas que utilizaremos en esta etapa son: `pandas`, `matplotlib`, `numpy` y `seaborn`.\n"
      ]
    },
    {
      "cell_type": "code",
      "source": [
        "pip install scikit-plot"
      ],
      "metadata": {
        "colab": {
          "base_uri": "https://localhost:8080/"
        },
        "id": "zYtriG9IRBR0",
        "outputId": "4acb4d62-437c-47f7-a518-32be7b87f9b7"
      },
      "execution_count": null,
      "outputs": [
        {
          "output_type": "stream",
          "name": "stdout",
          "text": [
            "Looking in indexes: https://pypi.org/simple, https://us-python.pkg.dev/colab-wheels/public/simple/\n",
            "Collecting scikit-plot\n",
            "  Downloading scikit_plot-0.3.7-py3-none-any.whl (33 kB)\n",
            "Requirement already satisfied: scipy>=0.9 in /usr/local/lib/python3.8/dist-packages (from scikit-plot) (1.7.3)\n",
            "Requirement already satisfied: joblib>=0.10 in /usr/local/lib/python3.8/dist-packages (from scikit-plot) (1.2.0)\n",
            "Requirement already satisfied: scikit-learn>=0.18 in /usr/local/lib/python3.8/dist-packages (from scikit-plot) (1.0.2)\n",
            "Requirement already satisfied: matplotlib>=1.4.0 in /usr/local/lib/python3.8/dist-packages (from scikit-plot) (3.2.2)\n",
            "Requirement already satisfied: numpy>=1.11 in /usr/local/lib/python3.8/dist-packages (from matplotlib>=1.4.0->scikit-plot) (1.21.6)\n",
            "Requirement already satisfied: cycler>=0.10 in /usr/local/lib/python3.8/dist-packages (from matplotlib>=1.4.0->scikit-plot) (0.11.0)\n",
            "Requirement already satisfied: python-dateutil>=2.1 in /usr/local/lib/python3.8/dist-packages (from matplotlib>=1.4.0->scikit-plot) (2.8.2)\n",
            "Requirement already satisfied: kiwisolver>=1.0.1 in /usr/local/lib/python3.8/dist-packages (from matplotlib>=1.4.0->scikit-plot) (1.4.4)\n",
            "Requirement already satisfied: pyparsing!=2.0.4,!=2.1.2,!=2.1.6,>=2.0.1 in /usr/local/lib/python3.8/dist-packages (from matplotlib>=1.4.0->scikit-plot) (3.0.9)\n",
            "Requirement already satisfied: threadpoolctl>=2.0.0 in /usr/local/lib/python3.8/dist-packages (from scikit-learn>=0.18->scikit-plot) (3.1.0)\n",
            "Requirement already satisfied: six>=1.5 in /usr/local/lib/python3.8/dist-packages (from python-dateutil>=2.1->matplotlib>=1.4.0->scikit-plot) (1.15.0)\n",
            "Installing collected packages: scikit-plot\n",
            "Successfully installed scikit-plot-0.3.7\n"
          ]
        }
      ]
    },
    {
      "cell_type": "code",
      "execution_count": null,
      "metadata": {
        "id": "BEns_pXQsutJ"
      },
      "outputs": [],
      "source": [
        "from __future__ import print_function\n",
        "import os\n",
        "import sys\n",
        "import pandas as pd\n",
        "import numpy as np\n",
        "%matplotlib inline\n",
        "from matplotlib import pyplot as plt\n",
        "import seaborn as sns\n",
        "import datetime\n",
        "from sklearn.preprocessing import MinMaxScaler\n",
        "import tensorflow as tf\n",
        "from tensorflow import keras\n",
        "from keras.layers import Dense, Input, Dropout, Conv1D, MaxPooling1D, Conv2D, MaxPooling2D, Flatten, AveragePooling1D\n",
        "from keras.optimizers import SGD\n",
        "from keras.models import Model, Sequential, load_model\n",
        "from keras.callbacks import ModelCheckpoint\n",
        "import joblib\n",
        "from sklearn.model_selection import train_test_split\n",
        "from sklearn.metrics import mean_absolute_error, r2_score\n",
        "from sklearn.decomposition import PCA\n",
        "from sklearn.model_selection import StratifiedKFold\n",
        "\n",
        "import scikitplot\n",
        "from scikitplot.metrics import plot_confusion_matrix, plot_roc, plot_cumulative_gain, plot_precision_recall, plot_lift_curve\n",
        "from sklearn.metrics import confusion_matrix, roc_curve, auc\n",
        "\n",
        "# import warnings filter\n",
        "from warnings import simplefilter\n",
        "# ignore all future warnings\n",
        "simplefilter(action='ignore', category=FutureWarning)"
      ]
    },
    {
      "cell_type": "code",
      "execution_count": null,
      "metadata": {
        "id": "XUc4_exIsutO"
      },
      "outputs": [],
      "source": [
        "#set current working directory\n",
        "path = '/content/drive/MyDrive/Colab Notebooks/'\n",
        "os.chdir(path)"
      ]
    },
    {
      "cell_type": "code",
      "execution_count": null,
      "metadata": {
        "id": "NbmgFG7tsutQ"
      },
      "outputs": [],
      "source": [
        "#Read the dataset into a pandas.DataFrame\n",
        "df = pd.read_csv(path + 'CollectedSpectra.csv')"
      ]
    },
    {
      "cell_type": "code",
      "source": [
        "df.head()"
      ],
      "metadata": {
        "colab": {
          "base_uri": "https://localhost:8080/",
          "height": 236
        },
        "id": "0rlpEKanFjv4",
        "outputId": "16e7e332-4ad5-4b84-caec-6b4d5c5d3d5a"
      },
      "execution_count": null,
      "outputs": [
        {
          "output_type": "execute_result",
          "data": {
            "text/plain": [
              "         x0      x0_5        x1      x1_5        x2      x2_5        x3  \\\n",
              "0  0.000000  0.500000  1.000000  1.500000  2.000000  2.500000  3.000000   \n",
              "1  0.195481  0.172190  0.141562  0.098016  0.058220  0.049786  0.138797   \n",
              "2  0.246828  0.216197  0.167901  0.091151  0.021224  0.021059  0.142704   \n",
              "3  0.345125  0.306945  0.235543  0.108845 -0.016644 -0.015601  0.152795   \n",
              "4  0.443625  0.418418  0.339642  0.157835 -0.075947 -0.119653  0.121190   \n",
              "\n",
              "       x3_5        x4      x4_5  ...        x149      x149_5        x150  \\\n",
              "0  3.500000  4.000000  4.500000  ...  149.000000  149.500000  150.000000   \n",
              "1  0.355719  0.617069  0.752140  ...   -0.320252   -0.228820   -0.220877   \n",
              "2  0.395389  0.696528  0.886301  ...   -0.412797   -0.321714   -0.309291   \n",
              "3  0.442013  0.769149  1.028015  ...   -0.497198   -0.467572   -0.466961   \n",
              "4  0.519734  0.909909  1.193738  ...   -0.472310   -0.482261   -0.480538   \n",
              "\n",
              "   AIMS       Acc  Session  Drug      taxis  Hemi  State  \n",
              "0   NaN       NaN      NaN   NaN        NaN   NaN    NaN  \n",
              "1   0.0  0.015433     73.0   1.0 -32.666667   1.0    NaN  \n",
              "2   0.0  0.042097     73.0   1.0 -32.600000   1.0    NaN  \n",
              "3   0.0  0.044436     73.0   1.0 -32.533333   1.0    NaN  \n",
              "4   0.0  0.034026     73.0   1.0 -32.466667   1.0    NaN  \n",
              "\n",
              "[5 rows x 308 columns]"
            ],
            "text/html": [
              "\n",
              "  <div id=\"df-f1b700f0-75cd-401f-8551-7d817da4f3d8\">\n",
              "    <div class=\"colab-df-container\">\n",
              "      <div>\n",
              "<style scoped>\n",
              "    .dataframe tbody tr th:only-of-type {\n",
              "        vertical-align: middle;\n",
              "    }\n",
              "\n",
              "    .dataframe tbody tr th {\n",
              "        vertical-align: top;\n",
              "    }\n",
              "\n",
              "    .dataframe thead th {\n",
              "        text-align: right;\n",
              "    }\n",
              "</style>\n",
              "<table border=\"1\" class=\"dataframe\">\n",
              "  <thead>\n",
              "    <tr style=\"text-align: right;\">\n",
              "      <th></th>\n",
              "      <th>x0</th>\n",
              "      <th>x0_5</th>\n",
              "      <th>x1</th>\n",
              "      <th>x1_5</th>\n",
              "      <th>x2</th>\n",
              "      <th>x2_5</th>\n",
              "      <th>x3</th>\n",
              "      <th>x3_5</th>\n",
              "      <th>x4</th>\n",
              "      <th>x4_5</th>\n",
              "      <th>...</th>\n",
              "      <th>x149</th>\n",
              "      <th>x149_5</th>\n",
              "      <th>x150</th>\n",
              "      <th>AIMS</th>\n",
              "      <th>Acc</th>\n",
              "      <th>Session</th>\n",
              "      <th>Drug</th>\n",
              "      <th>taxis</th>\n",
              "      <th>Hemi</th>\n",
              "      <th>State</th>\n",
              "    </tr>\n",
              "  </thead>\n",
              "  <tbody>\n",
              "    <tr>\n",
              "      <th>0</th>\n",
              "      <td>0.000000</td>\n",
              "      <td>0.500000</td>\n",
              "      <td>1.000000</td>\n",
              "      <td>1.500000</td>\n",
              "      <td>2.000000</td>\n",
              "      <td>2.500000</td>\n",
              "      <td>3.000000</td>\n",
              "      <td>3.500000</td>\n",
              "      <td>4.000000</td>\n",
              "      <td>4.500000</td>\n",
              "      <td>...</td>\n",
              "      <td>149.000000</td>\n",
              "      <td>149.500000</td>\n",
              "      <td>150.000000</td>\n",
              "      <td>NaN</td>\n",
              "      <td>NaN</td>\n",
              "      <td>NaN</td>\n",
              "      <td>NaN</td>\n",
              "      <td>NaN</td>\n",
              "      <td>NaN</td>\n",
              "      <td>NaN</td>\n",
              "    </tr>\n",
              "    <tr>\n",
              "      <th>1</th>\n",
              "      <td>0.195481</td>\n",
              "      <td>0.172190</td>\n",
              "      <td>0.141562</td>\n",
              "      <td>0.098016</td>\n",
              "      <td>0.058220</td>\n",
              "      <td>0.049786</td>\n",
              "      <td>0.138797</td>\n",
              "      <td>0.355719</td>\n",
              "      <td>0.617069</td>\n",
              "      <td>0.752140</td>\n",
              "      <td>...</td>\n",
              "      <td>-0.320252</td>\n",
              "      <td>-0.228820</td>\n",
              "      <td>-0.220877</td>\n",
              "      <td>0.0</td>\n",
              "      <td>0.015433</td>\n",
              "      <td>73.0</td>\n",
              "      <td>1.0</td>\n",
              "      <td>-32.666667</td>\n",
              "      <td>1.0</td>\n",
              "      <td>NaN</td>\n",
              "    </tr>\n",
              "    <tr>\n",
              "      <th>2</th>\n",
              "      <td>0.246828</td>\n",
              "      <td>0.216197</td>\n",
              "      <td>0.167901</td>\n",
              "      <td>0.091151</td>\n",
              "      <td>0.021224</td>\n",
              "      <td>0.021059</td>\n",
              "      <td>0.142704</td>\n",
              "      <td>0.395389</td>\n",
              "      <td>0.696528</td>\n",
              "      <td>0.886301</td>\n",
              "      <td>...</td>\n",
              "      <td>-0.412797</td>\n",
              "      <td>-0.321714</td>\n",
              "      <td>-0.309291</td>\n",
              "      <td>0.0</td>\n",
              "      <td>0.042097</td>\n",
              "      <td>73.0</td>\n",
              "      <td>1.0</td>\n",
              "      <td>-32.600000</td>\n",
              "      <td>1.0</td>\n",
              "      <td>NaN</td>\n",
              "    </tr>\n",
              "    <tr>\n",
              "      <th>3</th>\n",
              "      <td>0.345125</td>\n",
              "      <td>0.306945</td>\n",
              "      <td>0.235543</td>\n",
              "      <td>0.108845</td>\n",
              "      <td>-0.016644</td>\n",
              "      <td>-0.015601</td>\n",
              "      <td>0.152795</td>\n",
              "      <td>0.442013</td>\n",
              "      <td>0.769149</td>\n",
              "      <td>1.028015</td>\n",
              "      <td>...</td>\n",
              "      <td>-0.497198</td>\n",
              "      <td>-0.467572</td>\n",
              "      <td>-0.466961</td>\n",
              "      <td>0.0</td>\n",
              "      <td>0.044436</td>\n",
              "      <td>73.0</td>\n",
              "      <td>1.0</td>\n",
              "      <td>-32.533333</td>\n",
              "      <td>1.0</td>\n",
              "      <td>NaN</td>\n",
              "    </tr>\n",
              "    <tr>\n",
              "      <th>4</th>\n",
              "      <td>0.443625</td>\n",
              "      <td>0.418418</td>\n",
              "      <td>0.339642</td>\n",
              "      <td>0.157835</td>\n",
              "      <td>-0.075947</td>\n",
              "      <td>-0.119653</td>\n",
              "      <td>0.121190</td>\n",
              "      <td>0.519734</td>\n",
              "      <td>0.909909</td>\n",
              "      <td>1.193738</td>\n",
              "      <td>...</td>\n",
              "      <td>-0.472310</td>\n",
              "      <td>-0.482261</td>\n",
              "      <td>-0.480538</td>\n",
              "      <td>0.0</td>\n",
              "      <td>0.034026</td>\n",
              "      <td>73.0</td>\n",
              "      <td>1.0</td>\n",
              "      <td>-32.466667</td>\n",
              "      <td>1.0</td>\n",
              "      <td>NaN</td>\n",
              "    </tr>\n",
              "  </tbody>\n",
              "</table>\n",
              "<p>5 rows × 308 columns</p>\n",
              "</div>\n",
              "      <button class=\"colab-df-convert\" onclick=\"convertToInteractive('df-f1b700f0-75cd-401f-8551-7d817da4f3d8')\"\n",
              "              title=\"Convert this dataframe to an interactive table.\"\n",
              "              style=\"display:none;\">\n",
              "        \n",
              "  <svg xmlns=\"http://www.w3.org/2000/svg\" height=\"24px\"viewBox=\"0 0 24 24\"\n",
              "       width=\"24px\">\n",
              "    <path d=\"M0 0h24v24H0V0z\" fill=\"none\"/>\n",
              "    <path d=\"M18.56 5.44l.94 2.06.94-2.06 2.06-.94-2.06-.94-.94-2.06-.94 2.06-2.06.94zm-11 1L8.5 8.5l.94-2.06 2.06-.94-2.06-.94L8.5 2.5l-.94 2.06-2.06.94zm10 10l.94 2.06.94-2.06 2.06-.94-2.06-.94-.94-2.06-.94 2.06-2.06.94z\"/><path d=\"M17.41 7.96l-1.37-1.37c-.4-.4-.92-.59-1.43-.59-.52 0-1.04.2-1.43.59L10.3 9.45l-7.72 7.72c-.78.78-.78 2.05 0 2.83L4 21.41c.39.39.9.59 1.41.59.51 0 1.02-.2 1.41-.59l7.78-7.78 2.81-2.81c.8-.78.8-2.07 0-2.86zM5.41 20L4 18.59l7.72-7.72 1.47 1.35L5.41 20z\"/>\n",
              "  </svg>\n",
              "      </button>\n",
              "      \n",
              "  <style>\n",
              "    .colab-df-container {\n",
              "      display:flex;\n",
              "      flex-wrap:wrap;\n",
              "      gap: 12px;\n",
              "    }\n",
              "\n",
              "    .colab-df-convert {\n",
              "      background-color: #E8F0FE;\n",
              "      border: none;\n",
              "      border-radius: 50%;\n",
              "      cursor: pointer;\n",
              "      display: none;\n",
              "      fill: #1967D2;\n",
              "      height: 32px;\n",
              "      padding: 0 0 0 0;\n",
              "      width: 32px;\n",
              "    }\n",
              "\n",
              "    .colab-df-convert:hover {\n",
              "      background-color: #E2EBFA;\n",
              "      box-shadow: 0px 1px 2px rgba(60, 64, 67, 0.3), 0px 1px 3px 1px rgba(60, 64, 67, 0.15);\n",
              "      fill: #174EA6;\n",
              "    }\n",
              "\n",
              "    [theme=dark] .colab-df-convert {\n",
              "      background-color: #3B4455;\n",
              "      fill: #D2E3FC;\n",
              "    }\n",
              "\n",
              "    [theme=dark] .colab-df-convert:hover {\n",
              "      background-color: #434B5C;\n",
              "      box-shadow: 0px 1px 3px 1px rgba(0, 0, 0, 0.15);\n",
              "      filter: drop-shadow(0px 1px 2px rgba(0, 0, 0, 0.3));\n",
              "      fill: #FFFFFF;\n",
              "    }\n",
              "  </style>\n",
              "\n",
              "      <script>\n",
              "        const buttonEl =\n",
              "          document.querySelector('#df-f1b700f0-75cd-401f-8551-7d817da4f3d8 button.colab-df-convert');\n",
              "        buttonEl.style.display =\n",
              "          google.colab.kernel.accessAllowed ? 'block' : 'none';\n",
              "\n",
              "        async function convertToInteractive(key) {\n",
              "          const element = document.querySelector('#df-f1b700f0-75cd-401f-8551-7d817da4f3d8');\n",
              "          const dataTable =\n",
              "            await google.colab.kernel.invokeFunction('convertToInteractive',\n",
              "                                                     [key], {});\n",
              "          if (!dataTable) return;\n",
              "\n",
              "          const docLinkHtml = 'Like what you see? Visit the ' +\n",
              "            '<a target=\"_blank\" href=https://colab.research.google.com/notebooks/data_table.ipynb>data table notebook</a>'\n",
              "            + ' to learn more about interactive tables.';\n",
              "          element.innerHTML = '';\n",
              "          dataTable['output_type'] = 'display_data';\n",
              "          await google.colab.output.renderOutput(dataTable, element);\n",
              "          const docLink = document.createElement('div');\n",
              "          docLink.innerHTML = docLinkHtml;\n",
              "          element.appendChild(docLink);\n",
              "        }\n",
              "      </script>\n",
              "    </div>\n",
              "  </div>\n",
              "  "
            ]
          },
          "metadata": {},
          "execution_count": 6
        }
      ]
    },
    {
      "cell_type": "code",
      "execution_count": null,
      "metadata": {
        "id": "VY3hjKQpU2FU"
      },
      "outputs": [],
      "source": [
        "#make a copy:\n",
        "Data = df.copy();"
      ]
    },
    {
      "cell_type": "code",
      "source": [
        "#remove nans:\n",
        "df.dropna(subset=['State'], axis=0, inplace=True);\n",
        "df.reset_index(drop=True, inplace=True);"
      ],
      "metadata": {
        "id": "wvDQjas7HLDk"
      },
      "execution_count": null,
      "outputs": []
    },
    {
      "cell_type": "code",
      "source": [
        "#leave only right hemisphere:\n",
        "df.drop(df[np.logical_and(df['State'] == 4, df.Hemi == 1)].index, inplace = True);\n",
        "\n",
        "#update:\n",
        "y = df.State.astype('category');\n",
        "df.drop(['Acc', 'Hemi', 'State'], axis = 1, inplace = True);\n",
        "df.reset_index(drop = True, inplace = True);\n"
      ],
      "metadata": {
        "id": "jcZDIEWDG3nD"
      },
      "execution_count": null,
      "outputs": []
    },
    {
      "cell_type": "markdown",
      "source": [
        "##PreProcessing:"
      ],
      "metadata": {
        "id": "CZ8L3mW6nnAt"
      }
    },
    {
      "cell_type": "code",
      "execution_count": null,
      "metadata": {
        "id": "LTNpkzXNsutm"
      },
      "outputs": [],
      "source": [
        "#Scale the data:\n",
        "\n",
        "dim = df.shape\n",
        "labels = [];\n",
        "for ix in range(dim[1]):\n",
        "  if ix > 300:\n",
        "    continue;\n",
        "  labels.append('x'+ str(ix));\n",
        "\n",
        "scaler = MinMaxScaler();\n",
        "dummy = df.iloc[:, range(len(labels))];\n",
        "X = scaler.fit_transform(dummy)\n",
        "\n",
        "#Save scaler:\n",
        "fileoutScaler = 'scaler_model.sav';\n",
        "joblib.dump(scaler, 'models/' + fileoutScaler);"
      ]
    },
    {
      "cell_type": "code",
      "source": [
        "#Check how does the data looks like:\n",
        "\n",
        "import numpy as np\n",
        "\n",
        "# Initialize PCA\n",
        "pca = PCA()\n",
        "\n",
        "# Fit the PCA model to the data\n",
        "pca.fit(X)\n",
        "\n",
        "# Calculate the cumulative explained variance\n",
        "cumulative_explained_variance = np.cumsum(pca.explained_variance_ratio_)\n",
        "\n",
        "# Find the number of components needed to explain at least 80% of the variance\n",
        "n_components = np.argmax(cumulative_explained_variance >= 0.8) + 1\n",
        "\n",
        "# Update the PCA model with the number of components needed to explain at least 80% of the variance\n",
        "pca = PCA(n_components=n_components)\n",
        "pca.fit(X)\n",
        "\n",
        "# Perform dimensionality reduction on the data\n",
        "X_reduced = pca.transform(X)\n",
        "\n",
        "plt.scatter(X_reduced[:,0], X_reduced[:,1], c = y);\n",
        "plt.xlabel(\"First Principal Component\")\n",
        "plt.ylabel(\"Second Principal Component\")\n",
        "plt.show()"
      ],
      "metadata": {
        "colab": {
          "base_uri": "https://localhost:8080/",
          "height": 279
        },
        "id": "RMZggR6zsa7U",
        "outputId": "22fb5c07-48b9-4c62-e814-bcb4bd52e25e"
      },
      "execution_count": null,
      "outputs": [
        {
          "output_type": "display_data",
          "data": {
            "text/plain": [
              "<Figure size 432x288 with 1 Axes>"
            ],
            "image/png": "[encoded data removed]"
          },
          "metadata": {
            "needs_background": "light"
          }
        }
      ]
    },
    {
      "cell_type": "code",
      "source": [
        "num_features = len(labels);\n",
        "bStates = np.unique(y);\n",
        "num_classes = len(bStates);\n",
        "\n",
        "# Define the model\n",
        "input_layer = Input(shape=(num_features, 1), dtype = 'float32')  # shape of input data\n",
        "conv_layer1 = Conv1D(filters=100, kernel_size= 10, activation='relu')(input_layer)\n",
        "conv_layer2 = Conv1D(filters=100, kernel_size= 10, activation='relu')(conv_layer1)\n",
        "pool_layer1 = MaxPooling1D(pool_size=3)(conv_layer2)\n",
        "conv_layer3 = Conv1D(filters=160, kernel_size= 10, activation='relu')(pool_layer1)\n",
        "conv_layer4 = Conv1D(filters=160, kernel_size= 10, activation='relu')(conv_layer3)\n",
        "pool_layer2 = AveragePooling1D(pool_size=3)(conv_layer4)\n",
        "dropout_layer1 = Dropout(0.5)(pool_layer2)\n",
        "flatten_layer = Flatten()(dropout_layer1)\n",
        "dense1 = Dense(32, activation='relu')(flatten_layer)\n",
        "dense2 = Dense(64, activation='relu')(dense1)\n",
        "dense3 = Dense(16, activation='relu')(dense2)\n",
        "dropout_layer2 = Dropout(0.2)(dense3)\n",
        "output_layer = Dense(units=num_classes, activation='softmax')(dropout_layer2)  # output layer with 10 units and softmax activation\n",
        "\n",
        "# Compile the model\n",
        "model = Model(inputs=input_layer, outputs=output_layer)\n",
        "model.compile(loss='categorical_crossentropy', optimizer='adam', metrics=['accuracy'])\n",
        "model.summary()\n"
      ],
      "metadata": {
        "colab": {
          "base_uri": "https://localhost:8080/"
        },
        "id": "eeKUNCAWEE5u",
        "outputId": "90a6b06d-6bd4-4b56-806c-c9bcb6fa3fe3"
      },
      "execution_count": null,
      "outputs": [
        {
          "output_type": "stream",
          "name": "stdout",
          "text": [
            "Model: \"model\"\n",
            "_________________________________________________________________\n",
            " Layer (type)                Output Shape              Param #   \n",
            "=================================================================\n",
            " input_1 (InputLayer)        [(None, 301, 1)]          0         \n",
            "                                                                 \n",
            " conv1d (Conv1D)             (None, 292, 100)          1100      \n",
            "                                                                 \n",
            " conv1d_1 (Conv1D)           (None, 283, 100)          100100    \n",
            "                                                                 \n",
            " max_pooling1d (MaxPooling1D  (None, 94, 100)          0         \n",
            " )                                                               \n",
            "                                                                 \n",
            " conv1d_2 (Conv1D)           (None, 85, 160)           160160    \n",
            "                                                                 \n",
            " conv1d_3 (Conv1D)           (None, 76, 160)           256160    \n",
            "                                                                 \n",
            " average_pooling1d (AverageP  (None, 25, 160)          0         \n",
            " ooling1D)                                                       \n",
            "                                                                 \n",
            " dropout (Dropout)           (None, 25, 160)           0         \n",
            "                                                                 \n",
            " flatten (Flatten)           (None, 4000)              0         \n",
            "                                                                 \n",
            " dense (Dense)               (None, 32)                128032    \n",
            "                                                                 \n",
            " dense_1 (Dense)             (None, 64)                2112      \n",
            "                                                                 \n",
            " dense_2 (Dense)             (None, 16)                1040      \n",
            "                                                                 \n",
            " dropout_1 (Dropout)         (None, 16)                0         \n",
            "                                                                 \n",
            " dense_3 (Dense)             (None, 5)                 85        \n",
            "                                                                 \n",
            "=================================================================\n",
            "Total params: 648,789\n",
            "Trainable params: 648,789\n",
            "Non-trainable params: 0\n",
            "_________________________________________________________________\n"
          ]
        }
      ]
    },
    {
      "cell_type": "code",
      "source": [
        "# Train the model\n",
        "model_path = path + 'models'\n",
        "save_weights_at = os.path.join(model_path, 'dysk.{epoch:02d}-{val_loss:.4f}.hdf5')\n",
        "save_best = ModelCheckpoint(save_weights_at, monitor='val_loss', verbose=0,\n",
        "                            save_best_only=True, save_weights_only=False, mode='min',\n",
        "                            period=1)\n",
        "\n",
        "# use 5-fold cross validation\n",
        "kfold = StratifiedKFold(n_splits=5, shuffle=True)\n",
        "scores = [];\n",
        "lossxy = [];\n",
        "count = 0\n",
        "for train_index, test_index in kfold.split(X, y):\n",
        "\n",
        "  X_train, X_test = X[train_index], X[test_index];\n",
        "  y_train, y_test = y[train_index], y[test_index];\n",
        "\n",
        "  taxis_train = np.array(df.taxis)[train_index,None];\n",
        "  drug_train = np.array(df.taxis)[train_index,None];\n",
        "  session_train = np.array(df.taxis)[train_index,None];\n",
        "  taxis_test = np.array(df.taxis)[test_index,None];\n",
        "  drug_test = np.array(df.taxis)[test_index,None];\n",
        "  session_test = np.array(df.taxis)[test_index,None];\n",
        "\n",
        "  # Reshape input data\n",
        "  X_train = np.reshape(X_train, (X_train.shape[0], X_train.shape[1], 1))\n",
        "  X_test = np.reshape(X_test, (X_test.shape[0], X_test.shape[1], 1))\n",
        "\n",
        "  # Convert the labels to categorical format\n",
        "  y_train = keras.utils.to_categorical(y_train, num_classes=num_classes)\n",
        "  y_test = keras.utils.to_categorical(y_test, num_classes=num_classes)\n",
        "\n",
        "  history = model.fit(X_train, y_train, batch_size=32, epochs=20, verbose=1, shuffle=True, callbacks=[save_best], validation_data=(X_test, y_test));\n",
        "\n",
        "  lossxy.append([history.history['loss'], history.history['val_loss']]);\n",
        "  _, acc = model.evaluate(X_test, y_test, verbose=0)\n",
        "\n",
        "  scores.append(acc)\n",
        "  count = count + 1;\n",
        "\n",
        "print(\"Accuracy: %.2f%% (+/- %.2f%%)\" % (np.mean(scores)*100, np.std(scores)*100))\n",
        "\n",
        "      "
      ],
      "metadata": {
        "colab": {
          "base_uri": "https://localhost:8080/"
        },
        "id": "eCo2bGHfaKS0",
        "outputId": "e053177f-4cbb-4f2e-e385-a98a6fafc660"
      },
      "execution_count": null,
      "outputs": [
        {
          "output_type": "stream",
          "name": "stderr",
          "text": [
            "WARNING:tensorflow:`period` argument is deprecated. Please use `save_freq` to specify the frequency in number of batches seen.\n"
          ]
        },
        {
          "output_type": "stream",
          "name": "stdout",
          "text": [
            "Epoch 1/20\n",
            "116/116 [==============================] - 11s 21ms/step - loss: 0.9478 - accuracy: 0.6410 - val_loss: 0.6194 - val_accuracy: 0.7702\n",
            "Epoch 2/20\n",
            "116/116 [==============================] - 1s 8ms/step - loss: 0.6863 - accuracy: 0.7543 - val_loss: 0.6265 - val_accuracy: 0.7476\n",
            "Epoch 3/20\n",
            "116/116 [==============================] - 1s 8ms/step - loss: 0.6245 - accuracy: 0.7624 - val_loss: 0.6428 - val_accuracy: 0.7487\n",
            "Epoch 4/20\n",
            "116/116 [==============================] - 1s 9ms/step - loss: 0.6071 - accuracy: 0.7794 - val_loss: 0.5478 - val_accuracy: 0.7821\n",
            "Epoch 5/20\n",
            "116/116 [==============================] - 1s 8ms/step - loss: 0.5848 - accuracy: 0.7861 - val_loss: 0.5944 - val_accuracy: 0.7832\n",
            "Epoch 6/20\n",
            "116/116 [==============================] - 1s 9ms/step - loss: 0.5633 - accuracy: 0.7891 - val_loss: 0.4931 - val_accuracy: 0.8080\n",
            "Epoch 7/20\n",
            "116/116 [==============================] - 1s 9ms/step - loss: 0.5512 - accuracy: 0.7945 - val_loss: 0.4843 - val_accuracy: 0.8101\n",
            "Epoch 8/20\n",
            "116/116 [==============================] - 1s 9ms/step - loss: 0.5231 - accuracy: 0.8039 - val_loss: 0.5355 - val_accuracy: 0.7810\n",
            "Epoch 9/20\n",
            "116/116 [==============================] - 1s 12ms/step - loss: 0.5100 - accuracy: 0.8101 - val_loss: 0.4514 - val_accuracy: 0.8220\n",
            "Epoch 10/20\n",
            "116/116 [==============================] - 1s 12ms/step - loss: 0.4804 - accuracy: 0.8236 - val_loss: 0.4376 - val_accuracy: 0.8220\n",
            "Epoch 11/20\n",
            "116/116 [==============================] - 1s 11ms/step - loss: 0.4731 - accuracy: 0.8279 - val_loss: 0.4358 - val_accuracy: 0.8242\n",
            "Epoch 12/20\n",
            "116/116 [==============================] - 1s 9ms/step - loss: 0.4415 - accuracy: 0.8341 - val_loss: 0.3881 - val_accuracy: 0.8544\n",
            "Epoch 13/20\n",
            "116/116 [==============================] - 1s 9ms/step - loss: 0.4119 - accuracy: 0.8528 - val_loss: 0.3880 - val_accuracy: 0.8447\n",
            "Epoch 14/20\n",
            "116/116 [==============================] - 1s 9ms/step - loss: 0.4247 - accuracy: 0.8412 - val_loss: 0.4106 - val_accuracy: 0.8436\n",
            "Epoch 15/20\n",
            "116/116 [==============================] - 1s 9ms/step - loss: 0.4002 - accuracy: 0.8546 - val_loss: 0.3755 - val_accuracy: 0.8468\n",
            "Epoch 16/20\n",
            "116/116 [==============================] - 1s 9ms/step - loss: 0.3795 - accuracy: 0.8598 - val_loss: 0.3715 - val_accuracy: 0.8554\n",
            "Epoch 17/20\n",
            "116/116 [==============================] - 1s 8ms/step - loss: 0.3634 - accuracy: 0.8581 - val_loss: 0.3818 - val_accuracy: 0.8403\n",
            "Epoch 18/20\n",
            "116/116 [==============================] - 1s 9ms/step - loss: 0.3729 - accuracy: 0.8625 - val_loss: 0.3182 - val_accuracy: 0.8716\n",
            "Epoch 19/20\n",
            "116/116 [==============================] - 1s 9ms/step - loss: 0.3364 - accuracy: 0.8794 - val_loss: 0.3383 - val_accuracy: 0.8619\n",
            "Epoch 20/20\n",
            "116/116 [==============================] - 1s 9ms/step - loss: 0.3364 - accuracy: 0.8730 - val_loss: 0.2836 - val_accuracy: 0.8910\n",
            "Epoch 1/20\n",
            "116/116 [==============================] - 1s 11ms/step - loss: 0.3398 - accuracy: 0.8732 - val_loss: 0.2430 - val_accuracy: 0.9126\n",
            "Epoch 2/20\n",
            "116/116 [==============================] - 1s 10ms/step - loss: 0.3255 - accuracy: 0.8784 - val_loss: 0.2623 - val_accuracy: 0.9072\n",
            "Epoch 3/20\n",
            "116/116 [==============================] - 2s 13ms/step - loss: 0.3155 - accuracy: 0.8776 - val_loss: 0.2461 - val_accuracy: 0.9061\n",
            "Epoch 4/20\n",
            "116/116 [==============================] - 1s 12ms/step - loss: 0.2933 - accuracy: 0.8892 - val_loss: 0.2381 - val_accuracy: 0.9083\n",
            "Epoch 5/20\n",
            "116/116 [==============================] - 1s 8ms/step - loss: 0.2820 - accuracy: 0.8929 - val_loss: 0.2522 - val_accuracy: 0.9040\n",
            "Epoch 6/20\n",
            "116/116 [==============================] - 1s 9ms/step - loss: 0.2634 - accuracy: 0.8999 - val_loss: 0.2581 - val_accuracy: 0.8986\n",
            "Epoch 7/20\n",
            "116/116 [==============================] - 1s 8ms/step - loss: 0.2724 - accuracy: 0.9005 - val_loss: 0.2424 - val_accuracy: 0.9137\n",
            "Epoch 8/20\n",
            "116/116 [==============================] - 1s 9ms/step - loss: 0.2608 - accuracy: 0.8999 - val_loss: 0.2339 - val_accuracy: 0.9213\n",
            "Epoch 9/20\n",
            "116/116 [==============================] - 1s 10ms/step - loss: 0.2333 - accuracy: 0.9026 - val_loss: 0.1906 - val_accuracy: 0.9331\n",
            "Epoch 10/20\n",
            "116/116 [==============================] - 1s 9ms/step - loss: 0.2257 - accuracy: 0.9061 - val_loss: 0.2166 - val_accuracy: 0.9245\n",
            "Epoch 11/20\n",
            "116/116 [==============================] - 1s 9ms/step - loss: 0.2251 - accuracy: 0.9175 - val_loss: 0.1839 - val_accuracy: 0.9234\n",
            "Epoch 12/20\n",
            "116/116 [==============================] - 1s 9ms/step - loss: 0.2230 - accuracy: 0.9159 - val_loss: 0.2395 - val_accuracy: 0.9061\n",
            "Epoch 13/20\n",
            "116/116 [==============================] - 1s 11ms/step - loss: 0.2257 - accuracy: 0.9118 - val_loss: 0.1903 - val_accuracy: 0.9245\n",
            "Epoch 14/20\n",
            "116/116 [==============================] - 1s 11ms/step - loss: 0.1962 - accuracy: 0.9245 - val_loss: 0.1857 - val_accuracy: 0.9374\n",
            "Epoch 15/20\n",
            "116/116 [==============================] - 1s 10ms/step - loss: 0.1784 - accuracy: 0.9304 - val_loss: 0.1594 - val_accuracy: 0.9461\n",
            "Epoch 16/20\n",
            "116/116 [==============================] - 1s 9ms/step - loss: 0.1938 - accuracy: 0.9234 - val_loss: 0.1724 - val_accuracy: 0.9288\n",
            "Epoch 17/20\n",
            "116/116 [==============================] - 1s 8ms/step - loss: 0.1833 - accuracy: 0.9272 - val_loss: 0.1863 - val_accuracy: 0.9299\n",
            "Epoch 18/20\n",
            "116/116 [==============================] - 1s 8ms/step - loss: 0.1873 - accuracy: 0.9355 - val_loss: 0.1659 - val_accuracy: 0.9515\n",
            "Epoch 19/20\n",
            "116/116 [==============================] - 1s 8ms/step - loss: 0.1851 - accuracy: 0.9285 - val_loss: 0.1935 - val_accuracy: 0.9223\n",
            "Epoch 20/20\n",
            "116/116 [==============================] - 1s 9ms/step - loss: 0.1668 - accuracy: 0.9372 - val_loss: 0.1792 - val_accuracy: 0.9331\n",
            "Epoch 1/20\n",
            "116/116 [==============================] - 1s 11ms/step - loss: 0.1726 - accuracy: 0.9388 - val_loss: 0.1116 - val_accuracy: 0.9622\n",
            "Epoch 2/20\n",
            "116/116 [==============================] - 1s 9ms/step - loss: 0.1639 - accuracy: 0.9377 - val_loss: 0.0992 - val_accuracy: 0.9601\n",
            "Epoch 3/20\n",
            "116/116 [==============================] - 1s 8ms/step - loss: 0.1549 - accuracy: 0.9439 - val_loss: 0.1261 - val_accuracy: 0.9525\n",
            "Epoch 4/20\n",
            "116/116 [==============================] - 1s 8ms/step - loss: 0.1589 - accuracy: 0.9439 - val_loss: 0.1158 - val_accuracy: 0.9482\n",
            "Epoch 5/20\n",
            "116/116 [==============================] - 1s 9ms/step - loss: 0.1315 - accuracy: 0.9493 - val_loss: 0.1049 - val_accuracy: 0.9558\n",
            "Epoch 6/20\n",
            "116/116 [==============================] - 1s 8ms/step - loss: 0.1364 - accuracy: 0.9480 - val_loss: 0.1309 - val_accuracy: 0.9536\n",
            "Epoch 7/20\n",
            "116/116 [==============================] - 1s 8ms/step - loss: 0.1331 - accuracy: 0.9498 - val_loss: 0.1209 - val_accuracy: 0.9525\n",
            "Epoch 8/20\n",
            "116/116 [==============================] - 1s 9ms/step - loss: 0.1224 - accuracy: 0.9542 - val_loss: 0.0950 - val_accuracy: 0.9569\n",
            "Epoch 9/20\n",
            "116/116 [==============================] - 1s 9ms/step - loss: 0.1195 - accuracy: 0.9585 - val_loss: 0.1254 - val_accuracy: 0.9536\n",
            "Epoch 10/20\n",
            "116/116 [==============================] - 1s 9ms/step - loss: 0.1085 - accuracy: 0.9631 - val_loss: 0.1071 - val_accuracy: 0.9536\n",
            "Epoch 11/20\n",
            "116/116 [==============================] - 1s 12ms/step - loss: 0.1070 - accuracy: 0.9620 - val_loss: 0.0730 - val_accuracy: 0.9730\n",
            "Epoch 12/20\n",
            "116/116 [==============================] - 1s 10ms/step - loss: 0.0868 - accuracy: 0.9671 - val_loss: 0.0786 - val_accuracy: 0.9655\n",
            "Epoch 13/20\n",
            "116/116 [==============================] - 1s 11ms/step - loss: 0.0953 - accuracy: 0.9663 - val_loss: 0.0753 - val_accuracy: 0.9655\n",
            "Epoch 14/20\n",
            "116/116 [==============================] - 1s 9ms/step - loss: 0.1034 - accuracy: 0.9657 - val_loss: 0.0832 - val_accuracy: 0.9676\n",
            "Epoch 15/20\n",
            "116/116 [==============================] - 1s 9ms/step - loss: 0.0908 - accuracy: 0.9657 - val_loss: 0.1008 - val_accuracy: 0.9590\n",
            "Epoch 16/20\n",
            "116/116 [==============================] - 1s 8ms/step - loss: 0.0838 - accuracy: 0.9698 - val_loss: 0.1400 - val_accuracy: 0.9633\n",
            "Epoch 17/20\n",
            "116/116 [==============================] - 1s 8ms/step - loss: 0.0792 - accuracy: 0.9720 - val_loss: 0.0971 - val_accuracy: 0.9709\n",
            "Epoch 18/20\n",
            "116/116 [==============================] - 1s 9ms/step - loss: 0.0785 - accuracy: 0.9749 - val_loss: 0.0842 - val_accuracy: 0.9709\n",
            "Epoch 19/20\n",
            "116/116 [==============================] - 1s 9ms/step - loss: 0.0895 - accuracy: 0.9698 - val_loss: 0.0822 - val_accuracy: 0.9676\n",
            "Epoch 20/20\n",
            "116/116 [==============================] - 1s 8ms/step - loss: 0.0757 - accuracy: 0.9722 - val_loss: 0.0983 - val_accuracy: 0.9752\n",
            "Epoch 1/20\n",
            "116/116 [==============================] - 1s 9ms/step - loss: 0.0940 - accuracy: 0.9687 - val_loss: 0.0304 - val_accuracy: 0.9903\n",
            "Epoch 2/20\n",
            "116/116 [==============================] - 1s 10ms/step - loss: 0.0766 - accuracy: 0.9698 - val_loss: 0.0139 - val_accuracy: 0.9968\n",
            "Epoch 3/20\n",
            "116/116 [==============================] - 1s 10ms/step - loss: 0.0707 - accuracy: 0.9771 - val_loss: 0.0278 - val_accuracy: 0.9914\n",
            "Epoch 4/20\n",
            "116/116 [==============================] - 1s 12ms/step - loss: 0.0651 - accuracy: 0.9784 - val_loss: 0.0123 - val_accuracy: 0.9978\n",
            "Epoch 5/20\n",
            "116/116 [==============================] - 1s 11ms/step - loss: 0.0609 - accuracy: 0.9790 - val_loss: 0.0121 - val_accuracy: 0.9978\n",
            "Epoch 6/20\n",
            "116/116 [==============================] - 1s 10ms/step - loss: 0.0553 - accuracy: 0.9800 - val_loss: 0.0103 - val_accuracy: 0.9968\n",
            "Epoch 7/20\n",
            "116/116 [==============================] - 1s 8ms/step - loss: 0.0733 - accuracy: 0.9749 - val_loss: 0.0277 - val_accuracy: 0.9935\n",
            "Epoch 8/20\n",
            "116/116 [==============================] - 1s 9ms/step - loss: 0.0689 - accuracy: 0.9771 - val_loss: 0.0795 - val_accuracy: 0.9763\n",
            "Epoch 9/20\n",
            "116/116 [==============================] - 1s 8ms/step - loss: 0.0893 - accuracy: 0.9706 - val_loss: 0.0411 - val_accuracy: 0.9935\n",
            "Epoch 10/20\n",
            "116/116 [==============================] - 1s 9ms/step - loss: 0.0610 - accuracy: 0.9806 - val_loss: 0.0203 - val_accuracy: 0.9957\n",
            "Epoch 11/20\n",
            "116/116 [==============================] - 1s 9ms/step - loss: 0.0394 - accuracy: 0.9868 - val_loss: 0.0207 - val_accuracy: 0.9957\n",
            "Epoch 12/20\n",
            "116/116 [==============================] - 1s 9ms/step - loss: 0.0507 - accuracy: 0.9830 - val_loss: 0.0166 - val_accuracy: 0.9957\n",
            "Epoch 13/20\n",
            "116/116 [==============================] - 1s 8ms/step - loss: 0.0725 - accuracy: 0.9768 - val_loss: 0.0303 - val_accuracy: 0.9903\n",
            "Epoch 14/20\n",
            "116/116 [==============================] - 1s 8ms/step - loss: 0.0487 - accuracy: 0.9846 - val_loss: 0.0142 - val_accuracy: 0.9957\n",
            "Epoch 15/20\n",
            "116/116 [==============================] - 1s 9ms/step - loss: 0.0370 - accuracy: 0.9873 - val_loss: 0.0382 - val_accuracy: 0.9924\n",
            "Epoch 16/20\n",
            "116/116 [==============================] - 1s 10ms/step - loss: 0.0599 - accuracy: 0.9822 - val_loss: 0.0194 - val_accuracy: 0.9935\n",
            "Epoch 17/20\n",
            "116/116 [==============================] - 1s 10ms/step - loss: 0.0475 - accuracy: 0.9841 - val_loss: 0.0176 - val_accuracy: 0.9946\n",
            "Epoch 18/20\n",
            "116/116 [==============================] - 1s 10ms/step - loss: 0.0433 - accuracy: 0.9860 - val_loss: 0.0232 - val_accuracy: 0.9914\n",
            "Epoch 19/20\n",
            "116/116 [==============================] - 1s 9ms/step - loss: 0.0386 - accuracy: 0.9889 - val_loss: 0.0226 - val_accuracy: 0.9935\n",
            "Epoch 20/20\n",
            "116/116 [==============================] - 1s 8ms/step - loss: 0.0345 - accuracy: 0.9900 - val_loss: 0.0203 - val_accuracy: 0.9946\n",
            "Epoch 1/20\n",
            "116/116 [==============================] - 1s 11ms/step - loss: 0.0601 - accuracy: 0.9822 - val_loss: 0.0048 - val_accuracy: 0.9989\n",
            "Epoch 2/20\n",
            "116/116 [==============================] - 1s 11ms/step - loss: 0.0606 - accuracy: 0.9827 - val_loss: 0.0075 - val_accuracy: 1.0000\n",
            "Epoch 3/20\n",
            "116/116 [==============================] - 1s 11ms/step - loss: 0.0562 - accuracy: 0.9814 - val_loss: 0.0069 - val_accuracy: 0.9989\n",
            "Epoch 4/20\n",
            "116/116 [==============================] - 1s 10ms/step - loss: 0.0374 - accuracy: 0.9887 - val_loss: 0.0035 - val_accuracy: 0.9989\n",
            "Epoch 5/20\n",
            "116/116 [==============================] - 1s 8ms/step - loss: 0.0824 - accuracy: 0.9787 - val_loss: 0.0051 - val_accuracy: 0.9989\n",
            "Epoch 6/20\n",
            "116/116 [==============================] - 1s 9ms/step - loss: 0.0453 - accuracy: 0.9854 - val_loss: 0.0143 - val_accuracy: 0.9935\n",
            "Epoch 7/20\n",
            "116/116 [==============================] - 1s 9ms/step - loss: 0.0320 - accuracy: 0.9895 - val_loss: 0.0034 - val_accuracy: 0.9989\n",
            "Epoch 8/20\n",
            "116/116 [==============================] - 1s 9ms/step - loss: 0.0214 - accuracy: 0.9941 - val_loss: 0.0029 - val_accuracy: 0.9989\n",
            "Epoch 9/20\n",
            "116/116 [==============================] - 1s 9ms/step - loss: 0.0246 - accuracy: 0.9914 - val_loss: 0.0044 - val_accuracy: 0.9978\n",
            "Epoch 10/20\n",
            "116/116 [==============================] - 1s 9ms/step - loss: 0.0270 - accuracy: 0.9900 - val_loss: 0.0078 - val_accuracy: 0.9978\n",
            "Epoch 11/20\n",
            "116/116 [==============================] - 1s 9ms/step - loss: 0.0265 - accuracy: 0.9922 - val_loss: 0.0051 - val_accuracy: 0.9989\n",
            "Epoch 12/20\n",
            "116/116 [==============================] - 1s 8ms/step - loss: 0.0594 - accuracy: 0.9830 - val_loss: 0.0170 - val_accuracy: 0.9935\n",
            "Epoch 13/20\n",
            "116/116 [==============================] - 1s 9ms/step - loss: 0.0516 - accuracy: 0.9838 - val_loss: 0.0027 - val_accuracy: 0.9989\n",
            "Epoch 14/20\n",
            "116/116 [==============================] - 1s 10ms/step - loss: 0.0369 - accuracy: 0.9889 - val_loss: 0.0035 - val_accuracy: 1.0000\n",
            "Epoch 15/20\n",
            "116/116 [==============================] - 1s 12ms/step - loss: 0.0149 - accuracy: 0.9970 - val_loss: 9.1060e-04 - val_accuracy: 1.0000\n",
            "Epoch 16/20\n",
            "116/116 [==============================] - 1s 11ms/step - loss: 0.0342 - accuracy: 0.9892 - val_loss: 0.0382 - val_accuracy: 0.9892\n",
            "Epoch 17/20\n",
            "116/116 [==============================] - 1s 9ms/step - loss: 0.0554 - accuracy: 0.9817 - val_loss: 0.0056 - val_accuracy: 0.9989\n",
            "Epoch 18/20\n",
            "116/116 [==============================] - 1s 8ms/step - loss: 0.0305 - accuracy: 0.9900 - val_loss: 0.0202 - val_accuracy: 0.9935\n",
            "Epoch 19/20\n",
            "116/116 [==============================] - 1s 8ms/step - loss: 0.0316 - accuracy: 0.9922 - val_loss: 0.0036 - val_accuracy: 0.9989\n",
            "Epoch 20/20\n",
            "116/116 [==============================] - 1s 9ms/step - loss: 0.0238 - accuracy: 0.9933 - val_loss: 0.0023 - val_accuracy: 1.0000\n",
            "Accuracy: 95.88% (+/- 4.12%)\n"
          ]
        }
      ]
    },
    {
      "cell_type": "code",
      "source": [
        "# Plot the training and validation loss\n",
        "plt.plot(lossxy[0][0])\n",
        "plt.plot(lossxy[0][1])\n",
        "plt.title('Model loss')\n",
        "plt.ylabel('Loss')\n",
        "plt.xlabel('Epoch')\n",
        "plt.legend(['Train', 'Validation'], loc='upper right');\n",
        "plt.show()"
      ],
      "metadata": {
        "colab": {
          "base_uri": "https://localhost:8080/",
          "height": 295
        },
        "id": "H4pzdEbPbe8P",
        "outputId": "e279bc90-93a3-4b7c-aec5-c1139a66eb5e"
      },
      "execution_count": null,
      "outputs": [
        {
          "output_type": "display_data",
          "data": {
            "text/plain": [
              "<Figure size 432x288 with 1 Axes>"
            ],
            "image/png": "[encoded data removed]"
          },
          "metadata": {
            "needs_background": "light"
          }
        }
      ]
    },
    {
      "cell_type": "code",
      "source": [
        "# Get the index of the epoch with the lowest validation loss\n",
        "min_loss_index = np.argmin(history.history['val_loss']);\n",
        "\n",
        "# Get the best validation loss and best epoch number\n",
        "best_val_loss = history.history['val_loss'][min_loss_index];\n",
        "best_epoch = min_loss_index + 1;\n",
        "\n",
        "print(\"Best Validation Loss: {:.4f} at epoch {}\".format(best_val_loss, best_epoch));"
      ],
      "metadata": {
        "colab": {
          "base_uri": "https://localhost:8080/"
        },
        "id": "W7i93ATIecfX",
        "outputId": "c3ca7406-b9da-4442-8ba9-e59a098e75db"
      },
      "execution_count": null,
      "outputs": [
        {
          "output_type": "stream",
          "name": "stdout",
          "text": [
            "Best Validation Loss: 0.0009 at epoch 15\n"
          ]
        }
      ]
    },
    {
      "cell_type": "code",
      "source": [
        "best_epoch = 18"
      ],
      "metadata": {
        "id": "8ZmOxUZIdE5E"
      },
      "execution_count": null,
      "outputs": []
    },
    {
      "cell_type": "code",
      "execution_count": null,
      "metadata": {
        "id": "DNy1QGyxsuuQ",
        "colab": {
          "base_uri": "https://localhost:8080/"
        },
        "outputId": "0c37bcd2-2081-42cb-bf3c-0902b42f6435"
      },
      "outputs": [
        {
          "output_type": "stream",
          "name": "stdout",
          "text": [
            "29/29 [==============================] - 0s 3ms/step\n",
            "(927, 5)\n",
            "[1.0000000e+00 4.4876494e-12 4.1198304e-14 7.6941005e-17 6.0030882e-16]\n"
          ]
        }
      ],
      "source": [
        "best_model = load_model(os.path.join(model_path, f'dysk.{best_epoch:02d}-{best_val_loss:.4f}.hdf5'));\n",
        "\n",
        "# Get the predicted probabilities\n",
        "pred_probs = best_model.predict(X_test);\n",
        "\n",
        "# The shape of pred_probs will be (number of test samples, number of classes)\n",
        "print(pred_probs.shape)\n",
        "\n",
        "# Each row represents the predicted probabilities for a single test sample\n",
        "print(pred_probs[0])"
      ]
    },
    {
      "cell_type": "code",
      "source": [
        "originalStates = np.argmax(y_test, axis = 1);\n",
        "predStates = np.argmax(pred_probs, axis = 1)\n",
        "print(f'Original States: {np.unique(originalStates)}');\n",
        "print(f'Predicted States: {np.unique(predStates)}');"
      ],
      "metadata": {
        "colab": {
          "base_uri": "https://localhost:8080/"
        },
        "id": "UoylKyCsgT37",
        "outputId": "4267bc1c-b165-4d16-af38-1d9b863abcc9"
      },
      "execution_count": null,
      "outputs": [
        {
          "output_type": "stream",
          "name": "stdout",
          "text": [
            "Original States: [0 1 2 3 4]\n",
            "Predicted States: [0 1 2 3 4]\n"
          ]
        }
      ]
    },
    {
      "cell_type": "code",
      "execution_count": null,
      "metadata": {
        "id": "BqojS5-lsuuU",
        "colab": {
          "base_uri": "https://localhost:8080/"
        },
        "outputId": "c42f5ae0-0266-46db-ff14-c574ae214192"
      },
      "outputs": [
        {
          "output_type": "stream",
          "name": "stdout",
          "text": [
            "MAE for the validation set: 0.0000\n"
          ]
        }
      ],
      "source": [
        "mae = mean_absolute_error(originalStates, predStates)\n",
        "print(f'MAE for the validation set: {mae:.4f}')"
      ]
    },
    {
      "cell_type": "code",
      "execution_count": null,
      "metadata": {
        "id": "eLK1A1qRsuuW",
        "colab": {
          "base_uri": "https://localhost:8080/"
        },
        "outputId": "6e3cde38-72cf-489c-e0a5-e6e39251247d"
      },
      "outputs": [
        {
          "output_type": "stream",
          "name": "stdout",
          "text": [
            "R-squared for the validation set: 1.0\n"
          ]
        }
      ],
      "source": [
        "r2 = r2_score(predStates, originalStates)\n",
        "print('R-squared for the validation set:', round(r2,4))"
      ]
    },
    {
      "cell_type": "code",
      "source": [
        "a = pred_probs[:,0]"
      ],
      "metadata": {
        "id": "--vHyFw2FGyC"
      },
      "execution_count": null,
      "outputs": []
    },
    {
      "cell_type": "code",
      "source": [
        "# Plot the confusion matrix and the ROC curve in the same figure\n",
        "fig, ax = plt.subplots(1, 2, figsize=(12, 5))\n",
        "\n",
        "# Plot the confusion matrix\n",
        "plot_confusion_matrix(originalStates, predStates, title = 'Confusion Matrix',text_fontsize = 'large', \n",
        "                      title_fontsize = 'large', ax = ax[0])\n",
        "ax[0].set_xlabel(\"Predicted label\")\n",
        "ax[0].set_ylabel(\"True label\")\n",
        "ax[0].set_title(\"Confusion Matrix\")\n",
        "\n",
        "# Plot the ROC curve\n",
        "bStates = np.unique(originalStates);\n",
        "for k in range(len(bStates)):\n",
        "  fpr, tpr, thresholds = roc_curve(originalStates == bStates[k], pred_probs[:,k]);\n",
        "  roc_auc = auc(fpr, tpr)\n",
        "\n",
        "  ax[1].plot(fpr, tpr, lw=2, label= f'State {bStates[k]} (AUC = {roc_auc:0.2f})')\n",
        "\n",
        "ax[1].plot([0, 1], [0, 1], color='navy', lw=2, linestyle='--')\n",
        "ax[1].set_xlim([0.0, 1.0])\n",
        "ax[1].set_ylim([0.0, 1.05])\n",
        "ax[1].set_xlabel('False Positive Rate')\n",
        "ax[1].set_ylabel('True Positive Rate')\n",
        "ax[1].set_title('Receiver Operating Characteristic (ROC) Curve')\n",
        "ax[1].legend(loc=\"lower right\")\n",
        "\n",
        "plt.show()"
      ],
      "metadata": {
        "colab": {
          "base_uri": "https://localhost:8080/",
          "height": 356
        },
        "id": "vwpkyBmO3Ntm",
        "outputId": "73f28456-cb4d-43fb-e1ba-ea50ef3bb081"
      },
      "execution_count": null,
      "outputs": [
        {
          "output_type": "display_data",
          "data": {
            "text/plain": [
              "<Figure size 864x360 with 3 Axes>"
            ],
            "image/png": "[encoded data removed]"
          },
          "metadata": {
            "needs_background": "light"
          }
        }
      ]
    }
  ],
  "metadata": {
    "colab": {
      "provenance": [],
      "include_colab_link": true
    },
    "kernelspec": {
      "display_name": "Python 3",
      "language": "python",
      "name": "python3"
    },
    "language_info": {
      "codemirror_mode": {
        "name": "ipython",
        "version": 3
      },
      "file_extension": ".py",
      "mimetype": "text/x-python",
      "name": "python",
      "nbconvert_exporter": "python",
      "pygments_lexer": "ipython3",
      "version": "3.10.2"
    },
    "vscode": {
      "interpreter": {
        "hash": "aee8b7b246df8f9039afb4144a1f6fd8d2ca17a180786b69acc140d282b71a49"
      }
    },
    "accelerator": "GPU",
    "gpuClass": "standard"
  },
  "nbformat": 4,
  "nbformat_minor": 0
}